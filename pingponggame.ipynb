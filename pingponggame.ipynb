{
 "cells": [
  {
   "cell_type": "code",
   "execution_count": 1,
   "id": "8e168bf6-28a6-47f6-bcec-b14864f5f3ae",
   "metadata": {},
   "outputs": [
    {
     "name": "stdout",
     "output_type": "stream",
     "text": [
      "Requirement already satisfied: pygame in c:\\users\\diaca\\anaconda3\\lib\\site-packages (2.6.1)\n",
      "Note: you may need to restart the kernel to use updated packages.\n"
     ]
    }
   ],
   "source": [
    "pip install pygame"
   ]
  },
  {
   "cell_type": "code",
   "execution_count": null,
   "id": "2f8d2bfd-7447-4cca-b65e-cfff72f62a9b",
   "metadata": {},
   "outputs": [
    {
     "name": "stdout",
     "output_type": "stream",
     "text": [
      "pygame 2.6.1 (SDL 2.28.4, Python 3.12.4)\n",
      "Hello from the pygame community. https://www.pygame.org/contribute.html\n"
     ]
    }
   ],
   "source": [
    "import pygame\n",
    "import sys\n",
    "\n",
    "# Initialize Pygame\n",
    "pygame.init()\n",
    "\n",
    "# Constants\n",
    "WIDTH, HEIGHT = 800, 600\n",
    "BALL_RADIUS = 15\n",
    "PADDLE_WIDTH, PADDLE_HEIGHT = 10, 100\n",
    "WHITE = (255, 255, 255)\n",
    "BLACK = (0, 0, 0)\n",
    "\n",
    "# Load background image\n",
    "background = pygame.image.load('background.jpg')\n",
    "background = pygame.transform.scale(background, (WIDTH, HEIGHT))\n",
    "\n",
    "# Create the screen\n",
    "screen = pygame.display.set_mode((WIDTH, HEIGHT))\n",
    "pygame.display.set_caption(\"Ping Pong Game\")\n",
    "\n",
    "# Game variables\n",
    "ball_pos = [WIDTH // 2, HEIGHT // 2]\n",
    "ball_vel = [5, 5]\n",
    "paddle1_pos = [10, HEIGHT // 2 - PADDLE_HEIGHT // 2]\n",
    "paddle2_pos = [WIDTH - 20, HEIGHT // 2 - PADDLE_HEIGHT // 2]\n",
    "score1, score2 = 0, 0\n",
    "font = pygame.font.Font(None, 74)\n",
    "\n",
    "# Game loop\n",
    "while True:\n",
    "    for event in pygame.event.get():\n",
    "        if event.type == pygame.QUIT:\n",
    "            pygame.quit()\n",
    "            sys.exit()\n",
    "\n",
    "    keys = pygame.key.get_pressed()\n",
    "    if keys[pygame.K_w] and paddle1_pos[1] > 0:\n",
    "        paddle1_pos[1] -= 10\n",
    "    if keys[pygame.K_s] and paddle1_pos[1] < HEIGHT - PADDLE_HEIGHT:\n",
    "        paddle1_pos[1] += 10\n",
    "    if keys[pygame.K_UP] and paddle2_pos[1] > 0:\n",
    "        paddle2_pos[1] -= 10\n",
    "    if keys[pygame.K_DOWN] and paddle2_pos[1] < HEIGHT - PADDLE_HEIGHT:\n",
    "        paddle2_pos[1] += 10\n",
    "\n",
    "    # Move the ball\n",
    "    ball_pos[0] += ball_vel[0]\n",
    "    ball_pos[1] += ball_vel[1]\n",
    "\n",
    "    # Ball collision with top and bottom\n",
    "    if ball_pos[1] <= BALL_RADIUS or ball_pos[1] >= HEIGHT - BALL_RADIUS:\n",
    "        ball_vel[1] = -ball_vel[1]\n",
    "\n",
    "    # Ball collision with paddles\n",
    "    if (ball_pos[0] <= paddle1_pos[0] + PADDLE_WIDTH and\n",
    "            paddle1_pos[1] < ball_pos[1] < paddle1_pos[1] + PADDLE_HEIGHT):\n",
    "        ball_vel[0] = -ball_vel[0]\n",
    "    if (ball_pos[0] >= paddle2_pos[0] - BALL_RADIUS and\n",
    "            paddle2_pos[1] < ball_pos[1] < paddle2_pos[1] + PADDLE_HEIGHT):\n",
    "        ball_vel[0] = -ball_vel[0]\n",
    "\n",
    "    # Scoring\n",
    "    if ball_pos[0] < 0:\n",
    "        score2 += 1\n",
    "        ball_pos = [WIDTH // 2, HEIGHT // 2]\n",
    "    if ball_pos[0] > WIDTH:\n",
    "        score1 += 1\n",
    "        ball_pos = [WIDTH // 2, HEIGHT // 2]\n",
    "\n",
    "    # Check for winner\n",
    "    if score1 >= 10 or score2 >= 10:\n",
    "        winner_text = f\"Player 1 Wins!\" if score1 >= 10 else \"Player 2 Wins!\"\n",
    "        text = font.render(winner_text, True, WHITE)\n",
    "        screen.blit(background, (0, 0))\n",
    "        screen.blit(text, (WIDTH // 2 - text.get_width() // 2, HEIGHT // 2 - text.get_height() // 2))\n",
    "        pygame.display.flip()\n",
    "        pygame.time.wait(3000)\n",
    "        break\n",
    "\n",
    "    # Draw everything\n",
    "    screen.blit(background, (0, 0))\n",
    "    pygame.draw.rect(screen, WHITE, (paddle1_pos[0], paddle1_pos[1], PADDLE_WIDTH, PADDLE_HEIGHT))\n",
    "    pygame.draw.rect(screen, WHITE, (paddle2_pos[0], paddle2_pos[1], PADDLE_WIDTH, PADDLE_HEIGHT))\n",
    "    pygame.draw.circle(screen, WHITE, (int(ball_pos[0]), int(ball_pos[1])), BALL_RADIUS)\n",
    "    \n",
    "    # Draw scores\n",
    "    score_text = font.render(f\"{score1} - {score2}\", True, WHITE)\n",
    "    screen.blit(score_text, (WIDTH // 2 - score_text.get_width() // 2, 20))\n",
    "\n",
    "    # Update the display\n",
    "    pygame.display.flip()\n",
    "    pygame.time.delay(30)\n",
    "\n",
    "# Quit Pygame\n",
    "pygame.quit()"
   ]
  },
  {
   "cell_type": "code",
   "execution_count": null,
   "id": "7ec8fee2-56f8-4bd4-96d7-ba3a0cfc53ac",
   "metadata": {},
   "outputs": [],
   "source": []
  }
 ],
 "metadata": {
  "kernelspec": {
   "display_name": "Python 3 (ipykernel)",
   "language": "python",
   "name": "python3"
  },
  "language_info": {
   "codemirror_mode": {
    "name": "ipython",
    "version": 3
   },
   "file_extension": ".py",
   "mimetype": "text/x-python",
   "name": "python",
   "nbconvert_exporter": "python",
   "pygments_lexer": "ipython3",
   "version": "3.12.4"
  }
 },
 "nbformat": 4,
 "nbformat_minor": 5
}
